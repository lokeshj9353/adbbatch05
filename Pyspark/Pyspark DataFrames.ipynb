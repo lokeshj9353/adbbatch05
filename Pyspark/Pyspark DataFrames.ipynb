{
 "cells": [
  {
   "cell_type": "markdown",
   "metadata": {
    "application/vnd.databricks.v1+cell": {
     "cellMetadata": {},
     "inputWidgets": {},
     "nuid": "4bca3599-6b56-42bf-99cd-76f541e876d8",
     "showTitle": false,
     "tableResultSettingsMap": {},
     "title": ""
    }
   },
   "source": [
    "# Pyspark DataFrames"
   ]
  },
  {
   "cell_type": "code",
   "execution_count": 0,
   "metadata": {
    "application/vnd.databricks.v1+cell": {
     "cellMetadata": {
      "byteLimit": 2048000,
      "rowLimit": 10000
     },
     "inputWidgets": {},
     "nuid": "9a149583-ce57-4ea7-b05b-8250e5f787a1",
     "showTitle": false,
     "tableResultSettingsMap": {},
     "title": ""
    }
   },
   "outputs": [],
   "source": [
    " from pyspark.sql import functions as F\n",
    " from pyspark.sql.types import StructType,StructField, StringType, IntegerType"
   ]
  },
  {
   "cell_type": "code",
   "execution_count": 0,
   "metadata": {
    "application/vnd.databricks.v1+cell": {
     "cellMetadata": {
      "byteLimit": 2048000,
      "rowLimit": 10000
     },
     "inputWidgets": {},
     "nuid": "796cddb5-1e60-40cb-aae8-30a451ec6df9",
     "showTitle": false,
     "tableResultSettingsMap": {},
     "title": ""
    }
   },
   "outputs": [],
   "source": [
    "data_rows=[\n",
    "  (100,'sandeep',20000),\n",
    "  (200,'jashu',14000),\n",
    "  (300,'ramya',30000),\n",
    "  (400,'charan',25000),\n",
    "  (500,'reddy',15000)\n",
    "]\n",
    "\n",
    "columns = [\"emp_id\",\"emp_name\",\"salary\"]\n",
    "\n",
    "emp_df = spark.createDataFrame(data = data_rows,schema=columns)\n",
    "emp_df.show()"
   ]
  },
  {
   "cell_type": "code",
   "execution_count": 0,
   "metadata": {
    "application/vnd.databricks.v1+cell": {
     "cellMetadata": {
      "byteLimit": 2048000,
      "rowLimit": 10000
     },
     "inputWidgets": {},
     "nuid": "50cd62ee-dd1f-4c5d-ba15-0940425c0225",
     "showTitle": false,
     "tableResultSettingsMap": {},
     "title": ""
    }
   },
   "outputs": [],
   "source": [
    "display(emp_df)"
   ]
  },
  {
   "cell_type": "code",
   "execution_count": 0,
   "metadata": {
    "application/vnd.databricks.v1+cell": {
     "cellMetadata": {
      "byteLimit": 2048000,
      "rowLimit": 10000
     },
     "inputWidgets": {},
     "nuid": "8d5c7dd0-6098-4794-ad5c-f77b49f76755",
     "showTitle": false,
     "tableResultSettingsMap": {},
     "title": ""
    }
   },
   "outputs": [],
   "source": [
    "data_rows=[\n",
    "  (100,'sandeep',20000),\n",
    "  (200,'jashu',14000),\n",
    "  (300,'ramya',30000),\n",
    "  (400,'charan',25000),\n",
    "  (500,'reddy',15000)\n",
    "]\n",
    "schema = StructType([\n",
    "  StructField(\"emp_id\",IntegerType(),False),\n",
    "  StructField(\"emp_name\",StringType(),True),\n",
    "  StructField(\"salary\",IntegerType(),True),\n",
    "])\n",
    "emp_df = spark.createDataFrame(data = data_rows,schema=schema)\n",
    "emp_df.display()"
   ]
  },
  {
   "cell_type": "code",
   "execution_count": 0,
   "metadata": {
    "application/vnd.databricks.v1+cell": {
     "cellMetadata": {
      "byteLimit": 2048000,
      "rowLimit": 10000
     },
     "inputWidgets": {},
     "nuid": "07dfbb01-cd8c-4ab1-8af5-6bdcdc2b5354",
     "showTitle": false,
     "tableResultSettingsMap": {},
     "title": ""
    }
   },
   "outputs": [],
   "source": [
    "emp_df = (\n",
    "    emp_df\n",
    "    .withColumn(\"status\", F.lit(True))\n",
    ")\n",
    "emp_df.display()"
   ]
  },
  {
   "cell_type": "code",
   "execution_count": 0,
   "metadata": {
    "application/vnd.databricks.v1+cell": {
     "cellMetadata": {
      "byteLimit": 2048000,
      "rowLimit": 10000
     },
     "inputWidgets": {},
     "nuid": "79308b07-517f-4680-9fc2-ba3294452844",
     "showTitle": false,
     "tableResultSettingsMap": {},
     "title": ""
    }
   },
   "outputs": [],
   "source": [
    "emp_df = (\n",
    "    emp_df\n",
    "    .withColumnRenamed(\"salary\",\"emp_salary\")\n",
    ")\n",
    "emp_df.display()"
   ]
  },
  {
   "cell_type": "code",
   "execution_count": 0,
   "metadata": {
    "application/vnd.databricks.v1+cell": {
     "cellMetadata": {
      "byteLimit": 2048000,
      "rowLimit": 10000
     },
     "inputWidgets": {},
     "nuid": "67becee1-c811-404f-87aa-6ee9d8dcfd03",
     "showTitle": false,
     "tableResultSettingsMap": {},
     "title": ""
    }
   },
   "outputs": [],
   "source": [
    "emp_df3 = (\n",
    "    emp_df\n",
    "    .withColumn(\"gender\", F.lit(\"male\"))\n",
    "    .withColumn(\"department\", F.lit(\"It\"))\n",
    "    .withColumn(\"effective_date\", F.lit(F.current_date()))\n",
    ")\n",
    "emp_df3.display()"
   ]
  },
  {
   "cell_type": "code",
   "execution_count": 0,
   "metadata": {
    "application/vnd.databricks.v1+cell": {
     "cellMetadata": {
      "byteLimit": 2048000,
      "rowLimit": 10000
     },
     "inputWidgets": {},
     "nuid": "ccceadbd-f86d-4c47-8594-98a668237c8b",
     "showTitle": false,
     "tableResultSettingsMap": {},
     "title": ""
    }
   },
   "outputs": [],
   "source": [
    "emp_df4 = (\n",
    "    emp_df\n",
    "    .withColumns({\n",
    "        \"status\": F.lit(True),\n",
    "        \"gender\": F.lit(\"male\"),\n",
    "          \"department\": F.lit(\"It\"),\n",
    "         \"effective_date\" : F.lit(F.current_date())\n",
    "}))\n",
    "\n",
    "emp_df4.display()"
   ]
  },
  {
   "cell_type": "code",
   "execution_count": 0,
   "metadata": {
    "application/vnd.databricks.v1+cell": {
     "cellMetadata": {
      "byteLimit": 2048000,
      "rowLimit": 10000
     },
     "inputWidgets": {},
     "nuid": "4f7c000a-044a-4405-acb5-6ba38285343a",
     "showTitle": false,
     "tableResultSettingsMap": {
      "0": {
       "dataGridStateBlob": "{\"version\":1,\"tableState\":{\"columnPinning\":{\"left\":[\"#row_number#\"],\"right\":[]},\"columnSizing\":{},\"columnVisibility\":{}},\"settings\":{\"columns\":{}},\"syncTimestamp\":1753725725571}",
       "filterBlob": null,
       "queryPlanFiltersBlob": null,
       "tableResultIndex": 0
      }
     },
     "title": ""
    }
   },
   "outputs": [],
   "source": [
    "#display(emp_df4.select(F.col(\"emp_id\"),F.col(\"emp_name\")))\n",
    "# 1 display(emp_df4.select(\"emp_id\",\"emp_name\"))\n",
    "# 2 display(emp_df4.select(emp_df4.emp_id,emp_df4.emp_name))\n",
    "# 3 display(emp_df4.select(emp_df4[\"emp_id\"],emp_df4[\"emp_name\"]))\n",
    "\n"
   ]
  },
  {
   "cell_type": "code",
   "execution_count": 0,
   "metadata": {
    "application/vnd.databricks.v1+cell": {
     "cellMetadata": {
      "byteLimit": 2048000,
      "rowLimit": 10000
     },
     "inputWidgets": {},
     "nuid": "068c9eee-022b-4091-9bb7-ea5d229ae333",
     "showTitle": false,
     "tableResultSettingsMap": {},
     "title": ""
    }
   },
   "outputs": [],
   "source": [
    "emp_df5=emp_df4.filter(F.col(\"emp_salary\")>20000)\n",
    "display(emp_df5)"
   ]
  },
  {
   "cell_type": "code",
   "execution_count": 0,
   "metadata": {
    "application/vnd.databricks.v1+cell": {
     "cellMetadata": {
      "byteLimit": 2048000,
      "rowLimit": 10000
     },
     "inputWidgets": {},
     "nuid": "b4189228-2d9d-42b1-9ea2-9b10194fdcb6",
     "showTitle": false,
     "tableResultSettingsMap": {},
     "title": ""
    }
   },
   "outputs": [],
   "source": [
    "emp_df5=emp_df4.where(F.col(\"emp_salary\")>20000)\n",
    "display(emp_df5)"
   ]
  },
  {
   "cell_type": "code",
   "execution_count": 0,
   "metadata": {
    "application/vnd.databricks.v1+cell": {
     "cellMetadata": {
      "byteLimit": 2048000,
      "rowLimit": 10000
     },
     "inputWidgets": {},
     "nuid": "90c0f194-c9cd-4256-a3ac-f30f0fbf8451",
     "showTitle": false,
     "tableResultSettingsMap": {},
     "title": ""
    }
   },
   "outputs": [],
   "source": [
    "\n",
    "\n",
    "emp_df5= (\n",
    "    emp_df4\n",
    "    .withColumn(\n",
    "        \"is_highly_paid\",\n",
    "        F.when(\n",
    "            F.col(\"emp_salary\") > 20000, True\n",
    "        ).otherwise(False)\n",
    "    )\n",
    ")\n",
    "display(emp_df5)"
   ]
  }
 ],
 "metadata": {
  "application/vnd.databricks.v1+notebook": {
   "computePreferences": null,
   "dashboards": [],
   "environmentMetadata": {
    "base_environment": "",
    "environment_version": "2"
   },
   "inputWidgetPreferences": null,
   "language": "python",
   "notebookMetadata": {
    "pythonIndentUnit": 4
   },
   "notebookName": "Pyspark DataFrames",
   "widgets": {}
  },
  "language_info": {
   "name": "python"
  }
 },
 "nbformat": 4,
 "nbformat_minor": 0
}
